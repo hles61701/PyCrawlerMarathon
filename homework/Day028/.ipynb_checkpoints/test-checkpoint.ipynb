{
 "cells": [
  {
   "cell_type": "code",
   "execution_count": 43,
   "metadata": {},
   "outputs": [],
   "source": [
    "import requests\n",
    "from bs4 import BeautifulSoup as bs\n",
    "import re"
   ]
  },
  {
   "cell_type": "code",
   "execution_count": 23,
   "metadata": {},
   "outputs": [
    {
     "name": "stdout",
     "output_type": "stream",
     "text": [
      "ccf52881 (ccf52881) [新聞] 未來疫苗衛生官員帶頭先打？ 莊人祥：會 Thu Dec  3 15:44:36 2020\n"
     ]
    }
   ],
   "source": [
    "url = 'https://www.ptt.cc/bbs/Gossiping/M.1606981486.A.D44.html'\n",
    "cookies = {'over18' : '1'}\n",
    "req = requests.get(url, cookies = cookies)\n",
    "soup = bs(req.text)\n",
    "\n",
    "#主要內容\n",
    "main_content = soup.find(id = \"main-container\")\n",
    "metas = main_content.select('div.article-metaline')\n",
    "auther = metas[0].find(class_=\"article-meta-value\").text\n",
    "title = metas[1].find(class_=\"article-meta-value\").text\n",
    "date = metas[2].find(class_=\"article-meta-value\").text\n",
    "print(auther, title, date)"
   ]
  },
  {
   "cell_type": "code",
   "execution_count": 24,
   "metadata": {},
   "outputs": [
    {
     "data": {
      "text/plain": [
       "<div class=\"article-metaline\"><span class=\"article-meta-tag\">作者</span><span class=\"article-meta-value\">ccf52881 (ccf52881)</span></div>"
      ]
     },
     "execution_count": 24,
     "metadata": {},
     "output_type": "execute_result"
    }
   ],
   "source": [
    "metas[0]"
   ]
  },
  {
   "cell_type": "code",
   "execution_count": 25,
   "metadata": {},
   "outputs": [
    {
     "data": {
      "text/plain": [
       "[<div class=\"article-metaline-right\"><span class=\"article-meta-tag\">看板</span><span class=\"article-meta-value\">Gossiping</span></div>]"
      ]
     },
     "execution_count": 25,
     "metadata": {},
     "output_type": "execute_result"
    }
   ],
   "source": [
    "\n",
    "main_content.select('div.article-metaline-right')"
   ]
  },
  {
   "cell_type": "code",
   "execution_count": 48,
   "metadata": {},
   "outputs": [
    {
     "name": "stdout",
     "output_type": "stream",
     "text": [
      "118.167.72.100\n"
     ]
    }
   ],
   "source": [
    "ip = main_content.find(text = re.compile('※ 發信站:'))\n",
    "ip = re.search('[0-9]*\\.[0-9]*\\.[0-9]*\\.[0-9]*', ip).group()\n",
    "print(ip)"
   ]
  },
  {
   "cell_type": "code",
   "execution_count": 49,
   "metadata": {},
   "outputs": [
    {
     "data": {
      "text/plain": [
       "<generator object Tag.stripped_strings at 0x000002184E5A9740>"
      ]
     },
     "execution_count": 49,
     "metadata": {},
     "output_type": "execute_result"
    }
   ],
   "source": [
    "main_content.stripped_strings"
   ]
  },
  {
   "cell_type": "code",
   "execution_count": 50,
   "metadata": {},
   "outputs": [
    {
     "name": "stdout",
     "output_type": "stream",
     "text": [
      "KLGlikeshit : 樓下幫打\n",
      "STi2011 : 我以為是醫護人員\n",
      "gay7788 : 萊豬也可以官員先吃阿\n",
      "stvn2567 : OKOK\n",
      "VXcc : 想多了 頂多拉公務員出來打\n",
      "zeumax : 美國三位前總統已經宣佈，只要通過FDA,願意公開施打做宣導\n",
      "william8403 : 建議提前預定小巨蛋場地，供萬人欣賞\n",
      "KCKCLIN : 抓國親新和柯文哲去打先\n",
      "zeumax : 衛生官員學一下吧\n",
      "miauling : 不需要思考了，直接承諾了，如何？\n",
      "s505015 : 萊豬不先吃 疫苗先去打\n",
      "zeumax : 什麼示範都不敢來，真他貓的可憐\n",
      "alex00089 : 人類補完計劃\n",
      "KamioMisuzu : 還要思考喔\n",
      "miauling : 萊豬也可以先吃一下\n",
      "omanorboyo : 其實也不用怕啦 等你拿到 國外早就一堆白老鼠\n",
      "Horatio5566 : 我思考 你先打\n",
      "ppptttqaz : 基層先犧牲吧\n",
      "marktak : 耶 倒閣囉 開心\n",
      "devidevi : 萊豬為什麼不是官員先試吃\n",
      "shadowpriest : 歐美都先當白老鼠啦 擔心那麼多可以不用打\n",
      "MacOSX10 : 為什麼搞得像哲學性的問題？\n",
      "kbpoop : 這些醫事人員本來就是第一波了\n",
      "zakijudelo : 衛福部先帶頭示範吃萊豬內臟，才能消除民眾疑慮\n",
      "spring53287 : 萊豬帶頭吃，光頭好棒棒\n",
      "becareful : 官員先打啊。怕個屁啊\n",
      "eugene31431 : 什麼都不敢以身試法 zzzzz\n",
      "SilentBob : 先在小巨蛋舉行行政院長生吃萊豬表演再說\n",
      "hyde711034 : 出國仔先打啊\n",
      "banana190 : 我OK你先打\n",
      "BREAKFAST204 : 那萊豬要不要先吃？\n",
      "lovegensokyo : 醫護（包括任何衛生單位公務人員）本來就會優先打\n",
      "lovegensokyo : 疫苗啊，一直以來都是如此\n",
      "lovegensokyo : 說不敢打的恐怕是對台灣衛生單位不熟吧？\n",
      "cychine : 我ok你先打\n",
      "cychine : 樓下能幫猛甲打手槍嗎\n",
      "magamanzero : 沒有吧 第一線醫護才需要先 你官員多久接觸一次病人?\n",
      "zainc : 我OK，你先打\n",
      "XDDDpupu5566 : 我OK你先當變種人\n",
      "xhung : 先吃萊豬啊...\n",
      "cityhunter04 : 為什麼都要官員帶頭做？人民是白癡，沒有判斷能力\n",
      "demangel : 打針marine無敵\n",
      "ksxo : 只有政務官要吧 少拿事務官出來擋\n",
      "qsew05800 : 帶頭吃豬肉\n",
      "alan0204 : 萊豬都不敢先吃了還期待先打\n",
      "NEWSTAY : 無聊 有啥意義\n",
      "linyi520 : 我ok，你先打\n",
      "dean1990 : 別擔心，到時候開放自願，一堆人搶著打\n",
      "dean1990 : 讓衛生官員打，到時候出事，是台灣的損失\n",
      "dean1990 : 政府真的別鬧了\n",
      "dean1990 : 不是先打就是負責任\n",
      "kano4002 : 屎先給窮人吃，疫苗當然是有錢人先打\n",
      "bluemanhaha : 衛生官員當然沒問題，行政院長就滾去確診好了\n"
     ]
    }
   ],
   "source": [
    "pushes = main_content.find_all('div', class_ = 'push')\n",
    "for p in pushes:\n",
    "    print(p.find('span', class_ = 'f3 hl push-userid').text, p.find('span', class_ = 'f3 push-content').text)"
   ]
  },
  {
   "cell_type": "code",
   "execution_count": 51,
   "metadata": {},
   "outputs": [
    {
     "data": {
      "text/plain": [
       "<div id=\"main-container\">\n",
       "<div class=\"bbs-screen bbs-content\" id=\"main-content\"><div class=\"article-metaline\"><span class=\"article-meta-tag\">作者</span><span class=\"article-meta-value\">ccf52881 (ccf52881)</span></div><div class=\"article-metaline-right\"><span class=\"article-meta-tag\">看板</span><span class=\"article-meta-value\">Gossiping</span></div><div class=\"article-metaline\"><span class=\"article-meta-tag\">標題</span><span class=\"article-meta-value\">[新聞] 未來疫苗衛生官員帶頭先打？ 莊人祥：會</span></div><div class=\"article-metaline\"><span class=\"article-meta-tag\">時間</span><span class=\"article-meta-value\">Thu Dec  3 15:44:36 2020</span></div>\n",
       "1.媒體來源:自由\n",
       "\n",
       "\n",
       "2.記者署名:林惠琴\n",
       "\n",
       "\n",
       "3.完整新聞標題:未來疫苗衛生官員帶頭先打？ 莊人祥：會往這方向思考\n",
       "\n",
       "\n",
       "4.完整新聞內文:\n",
       "〔記者林惠琴／台北報導〕英國首相強生宣佈，英國領先全球批准輝瑞（Pfizer）與\n",
       "BioNTech（BNT）合作的武漢肺炎（新型冠狀病毒病，COVID-19）疫苗，但英國民調指出\n",
       "，有5分之1民眾仍感到憂慮，希望衛生大臣開直播先打。對此，我國中央流行疫情指揮中\n",
       "心發言人莊人祥表示，有關衛生官員先打，以前流感疫苗也是如此，會往這個方向思考。\n",
       "\n",
       "針對英國民眾對於武漢肺炎疫苗的安全疑慮，莊人祥指出，此次確實是全球首次接種mRNA\n",
       "（信使核糖核酸）技術研發而成的疫苗，預估今年12月底或明年第1季，歐美應該會有相\n",
       "當多的國家開始打疫苗，甚至是大量施打，我國會先看看這些國家接種疫苗後的狀況，同\n",
       "時密切注意臨床試驗有效性的資料。\n",
       "\n",
       "至於衛生官員帶頭先打疫苗，莊人祥說明，以前打流感疫苗就都是這樣，武漢肺炎疫苗也\n",
       "會往這方面思考，但時間還沒到。\n",
       "\n",
       "另外，針對美國更改防疫指引，可望縮短隔離天數至7天一事，莊人祥指出，此方式僅針\n",
       "對確定病例的接觸者，若是7天內沒有發病，可於接受採檢陰性後解除隔離，若是第7天沒\n",
       "有檢驗，但第10天還沒有症狀，就可以出來，只是其實還有很多要注意的事情，後續會再\n",
       "檢視他們執行的狀況，若評估需要修改我國現行作法，則會於專家會議中再做討論。\n",
       "\n",
       "\n",
       "\n",
       "5.完整新聞連結 (或短網址):<a href=\"https://reurl.cc/r8Od1E\" rel=\"nofollow\" target=\"_blank\">https://reurl.cc/r8Od1E</a>\n",
       "\n",
       "\n",
       "\n",
       "\n",
       "6.備註:\n",
       "<span class=\"f2\">※ 一個人三天只能張貼一則新聞，被刪或自刪也算額度內，超貼者水桶，請注意\n",
       "</span><span class=\"f2\">※ 備註請勿張貼三日內新聞(包含連結、標題等)\n",
       "</span>\n",
       "\n",
       "--\n",
       "<span class=\"f2\">※ 發信站: 批踢踢實業坊(ptt.cc), 來自: 118.167.72.100 (臺灣)\n",
       "</span><span class=\"f2\">※ 文章網址: <a href=\"https://www.ptt.cc/bbs/Gossiping/M.1606981486.A.D44.html\" rel=\"nofollow\" target=\"_blank\">https://www.ptt.cc/bbs/Gossiping/M.1606981486.A.D44.html</a>\n",
       "</span><div class=\"push\"><span class=\"hl push-tag\">推 </span><span class=\"f3 hl push-userid\">KLGlikeshit</span><span class=\"f3 push-content\">: 樓下幫打</span><span class=\"push-ipdatetime\"> 12/03 15:45\n",
       "</span></div><div class=\"push\"><span class=\"hl push-tag\">推 </span><span class=\"f3 hl push-userid\">STi2011</span><span class=\"f3 push-content\">: 我以為是醫護人員</span><span class=\"push-ipdatetime\"> 12/03 15:45\n",
       "</span></div><div class=\"push\"><span class=\"hl push-tag\">推 </span><span class=\"f3 hl push-userid\">gay7788</span><span class=\"f3 push-content\">: 萊豬也可以官員先吃阿</span><span class=\"push-ipdatetime\"> 12/03 15:45\n",
       "</span></div><div class=\"push\"><span class=\"f1 hl push-tag\">→ </span><span class=\"f3 hl push-userid\">stvn2567</span><span class=\"f3 push-content\">: OKOK</span><span class=\"push-ipdatetime\"> 12/03 15:45\n",
       "</span></div><div class=\"push\"><span class=\"hl push-tag\">推 </span><span class=\"f3 hl push-userid\">VXcc</span><span class=\"f3 push-content\">: 想多了 頂多拉公務員出來打</span><span class=\"push-ipdatetime\"> 12/03 15:45\n",
       "</span></div><div class=\"push\"><span class=\"hl push-tag\">推 </span><span class=\"f3 hl push-userid\">zeumax</span><span class=\"f3 push-content\">: 美國三位前總統已經宣佈，只要通過FDA,願意公開施打做宣導</span><span class=\"push-ipdatetime\"> 12/03 15:45\n",
       "</span></div><div class=\"push\"><span class=\"hl push-tag\">推 </span><span class=\"f3 hl push-userid\">william8403</span><span class=\"f3 push-content\">: 建議提前預定小巨蛋場地，供萬人欣賞</span><span class=\"push-ipdatetime\"> 12/03 15:45\n",
       "</span></div><div class=\"push\"><span class=\"f1 hl push-tag\">→ </span><span class=\"f3 hl push-userid\">KCKCLIN</span><span class=\"f3 push-content\">: 抓國親新和柯文哲去打先</span><span class=\"push-ipdatetime\"> 12/03 15:46\n",
       "</span></div><div class=\"push\"><span class=\"f1 hl push-tag\">→ </span><span class=\"f3 hl push-userid\">zeumax</span><span class=\"f3 push-content\">: 衛生官員學一下吧</span><span class=\"push-ipdatetime\"> 12/03 15:46\n",
       "</span></div><div class=\"push\"><span class=\"hl push-tag\">推 </span><span class=\"f3 hl push-userid\">miauling</span><span class=\"f3 push-content\">: 不需要思考了，直接承諾了，如何？</span><span class=\"push-ipdatetime\"> 12/03 15:46\n",
       "</span></div><div class=\"push\"><span class=\"hl push-tag\">推 </span><span class=\"f3 hl push-userid\">s505015</span><span class=\"f3 push-content\">: 萊豬不先吃 疫苗先去打</span><span class=\"push-ipdatetime\"> 12/03 15:46\n",
       "</span></div><div class=\"push\"><span class=\"f1 hl push-tag\">→ </span><span class=\"f3 hl push-userid\">zeumax</span><span class=\"f3 push-content\">: 什麼示範都不敢來，真他貓的可憐</span><span class=\"push-ipdatetime\"> 12/03 15:46\n",
       "</span></div><div class=\"push\"><span class=\"f1 hl push-tag\">→ </span><span class=\"f3 hl push-userid\">alex00089</span><span class=\"f3 push-content\">: 人類補完計劃</span><span class=\"push-ipdatetime\"> 12/03 15:46\n",
       "</span></div><div class=\"push\"><span class=\"f1 hl push-tag\">→ </span><span class=\"f3 hl push-userid\">KamioMisuzu</span><span class=\"f3 push-content\">: 還要思考喔</span><span class=\"push-ipdatetime\"> 12/03 15:47\n",
       "</span></div><div class=\"push\"><span class=\"f1 hl push-tag\">→ </span><span class=\"f3 hl push-userid\">miauling</span><span class=\"f3 push-content\">: 萊豬也可以先吃一下</span><span class=\"push-ipdatetime\"> 12/03 15:47\n",
       "</span></div><div class=\"push\"><span class=\"hl push-tag\">推 </span><span class=\"f3 hl push-userid\">omanorboyo</span><span class=\"f3 push-content\">: 其實也不用怕啦 等你拿到 國外早就一堆白老鼠</span><span class=\"push-ipdatetime\"> 12/03 15:47\n",
       "</span></div><div class=\"push\"><span class=\"hl push-tag\">推 </span><span class=\"f3 hl push-userid\">Horatio5566</span><span class=\"f3 push-content\">: 我思考 你先打</span><span class=\"push-ipdatetime\"> 12/03 15:47\n",
       "</span></div><div class=\"push\"><span class=\"f1 hl push-tag\">→ </span><span class=\"f3 hl push-userid\">ppptttqaz</span><span class=\"f3 push-content\">: 基層先犧牲吧</span><span class=\"push-ipdatetime\"> 12/03 15:48\n",
       "</span></div><div class=\"push\"><span class=\"f1 hl push-tag\">→ </span><span class=\"f3 hl push-userid\">marktak</span><span class=\"f3 push-content\">: 耶 倒閣囉 開心</span><span class=\"push-ipdatetime\"> 12/03 15:49\n",
       "</span></div><div class=\"push\"><span class=\"f1 hl push-tag\">噓 </span><span class=\"f3 hl push-userid\">devidevi</span><span class=\"f3 push-content\">: 萊豬為什麼不是官員先試吃</span><span class=\"push-ipdatetime\"> 12/03 15:49\n",
       "</span></div><div class=\"push\"><span class=\"f1 hl push-tag\">噓 </span><span class=\"f3 hl push-userid\">shadowpriest</span><span class=\"f3 push-content\">: 歐美都先當白老鼠啦 擔心那麼多可以不用打</span><span class=\"push-ipdatetime\"> 12/03 15:52\n",
       "</span></div><div class=\"push\"><span class=\"hl push-tag\">推 </span><span class=\"f3 hl push-userid\">MacOSX10</span><span class=\"f3 push-content\">: 為什麼搞得像哲學性的問題？</span><span class=\"push-ipdatetime\"> 12/03 15:53\n",
       "</span></div><div class=\"push\"><span class=\"hl push-tag\">推 </span><span class=\"f3 hl push-userid\">kbpoop</span><span class=\"f3 push-content\">: 這些醫事人員本來就是第一波了</span><span class=\"push-ipdatetime\"> 12/03 15:54\n",
       "</span></div><div class=\"push\"><span class=\"hl push-tag\">推 </span><span class=\"f3 hl push-userid\">zakijudelo</span><span class=\"f3 push-content\">: 衛福部先帶頭示範吃萊豬內臟，才能消除民眾疑慮</span><span class=\"push-ipdatetime\"> 12/03 15:56\n",
       "</span></div><div class=\"push\"><span class=\"hl push-tag\">推 </span><span class=\"f3 hl push-userid\">spring53287</span><span class=\"f3 push-content\">: 萊豬帶頭吃，光頭好棒棒</span><span class=\"push-ipdatetime\"> 12/03 15:57\n",
       "</span></div><div class=\"push\"><span class=\"hl push-tag\">推 </span><span class=\"f3 hl push-userid\">becareful</span><span class=\"f3 push-content\">: 官員先打啊。怕個屁啊</span><span class=\"push-ipdatetime\"> 12/03 15:59\n",
       "</span></div><div class=\"push\"><span class=\"f1 hl push-tag\">噓 </span><span class=\"f3 hl push-userid\">eugene31431</span><span class=\"f3 push-content\">: 什麼都不敢以身試法 zzzzz</span><span class=\"push-ipdatetime\"> 12/03 15:59\n",
       "</span></div><div class=\"push\"><span class=\"f1 hl push-tag\">→ </span><span class=\"f3 hl push-userid\">SilentBob</span><span class=\"f3 push-content\">: 先在小巨蛋舉行行政院長生吃萊豬表演再說</span><span class=\"push-ipdatetime\"> 12/03 15:59\n",
       "</span></div><div class=\"push\"><span class=\"hl push-tag\">推 </span><span class=\"f3 hl push-userid\">hyde711034</span><span class=\"f3 push-content\">: 出國仔先打啊</span><span class=\"push-ipdatetime\"> 12/03 16:00\n",
       "</span></div><div class=\"push\"><span class=\"hl push-tag\">推 </span><span class=\"f3 hl push-userid\">banana190</span><span class=\"f3 push-content\">: 我OK你先打</span><span class=\"push-ipdatetime\"> 12/03 16:00\n",
       "</span></div><div class=\"push\"><span class=\"hl push-tag\">推 </span><span class=\"f3 hl push-userid\">BREAKFAST204</span><span class=\"f3 push-content\">: 那萊豬要不要先吃？</span><span class=\"push-ipdatetime\"> 12/03 16:02\n",
       "</span></div><div class=\"push\"><span class=\"hl push-tag\">推 </span><span class=\"f3 hl push-userid\">lovegensokyo</span><span class=\"f3 push-content\">: 醫護（包括任何衛生單位公務人員）本來就會優先打</span><span class=\"push-ipdatetime\"> 12/03 16:03\n",
       "</span></div><div class=\"push\"><span class=\"f1 hl push-tag\">→ </span><span class=\"f3 hl push-userid\">lovegensokyo</span><span class=\"f3 push-content\">: 疫苗啊，一直以來都是如此</span><span class=\"push-ipdatetime\"> 12/03 16:03\n",
       "</span></div><div class=\"push\"><span class=\"hl push-tag\">推 </span><span class=\"f3 hl push-userid\">lovegensokyo</span><span class=\"f3 push-content\">: 說不敢打的恐怕是對台灣衛生單位不熟吧？</span><span class=\"push-ipdatetime\"> 12/03 16:05\n",
       "</span></div><div class=\"push\"><span class=\"hl push-tag\">推 </span><span class=\"f3 hl push-userid\">cychine</span><span class=\"f3 push-content\">: 我ok你先打</span><span class=\"push-ipdatetime\"> 12/03 16:07\n",
       "</span></div><div class=\"push\"><span class=\"hl push-tag\">推 </span><span class=\"f3 hl push-userid\">cychine</span><span class=\"f3 push-content\">: 樓下能幫猛甲打手槍嗎</span><span class=\"push-ipdatetime\"> 12/03 16:08\n",
       "</span></div><div class=\"push\"><span class=\"f1 hl push-tag\">→ </span><span class=\"f3 hl push-userid\">magamanzero</span><span class=\"f3 push-content\">: 沒有吧 第一線醫護才需要先 你官員多久接觸一次病人?</span><span class=\"push-ipdatetime\"> 12/03 16:12\n",
       "</span></div><div class=\"push\"><span class=\"f1 hl push-tag\">→ </span><span class=\"f3 hl push-userid\">zainc</span><span class=\"f3 push-content\">: 我OK，你先打</span><span class=\"push-ipdatetime\"> 12/03 16:13\n",
       "</span></div><div class=\"push\"><span class=\"hl push-tag\">推 </span><span class=\"f3 hl push-userid\">XDDDpupu5566</span><span class=\"f3 push-content\">: 我OK你先當變種人</span><span class=\"push-ipdatetime\"> 12/03 16:16\n",
       "</span></div><div class=\"push\"><span class=\"f1 hl push-tag\">→ </span><span class=\"f3 hl push-userid\">xhung</span><span class=\"f3 push-content\">: 先吃萊豬啊...</span><span class=\"push-ipdatetime\"> 12/03 16:19\n",
       "</span></div><div class=\"push\"><span class=\"f1 hl push-tag\">噓 </span><span class=\"f3 hl push-userid\">cityhunter04</span><span class=\"f3 push-content\">: 為什麼都要官員帶頭做？人民是白癡，沒有判斷能力</span><span class=\"push-ipdatetime\"> 12/03 16:20\n",
       "</span></div><div class=\"push\"><span class=\"f1 hl push-tag\">→ </span><span class=\"f3 hl push-userid\">demangel</span><span class=\"f3 push-content\">: 打針marine無敵</span><span class=\"push-ipdatetime\"> 12/03 16:27\n",
       "</span></div><div class=\"push\"><span class=\"f1 hl push-tag\">→ </span><span class=\"f3 hl push-userid\">ksxo</span><span class=\"f3 push-content\">: 只有政務官要吧 少拿事務官出來擋</span><span class=\"push-ipdatetime\"> 12/03 16:30\n",
       "</span></div><div class=\"push\"><span class=\"f1 hl push-tag\">噓 </span><span class=\"f3 hl push-userid\">qsew05800</span><span class=\"f3 push-content\">: 帶頭吃豬肉</span><span class=\"push-ipdatetime\"> 12/03 16:31\n",
       "</span></div><div class=\"push\"><span class=\"f1 hl push-tag\">噓 </span><span class=\"f3 hl push-userid\">alan0204</span><span class=\"f3 push-content\">: 萊豬都不敢先吃了還期待先打</span><span class=\"push-ipdatetime\"> 12/03 16:35\n",
       "</span></div><div class=\"push\"><span class=\"f1 hl push-tag\">噓 </span><span class=\"f3 hl push-userid\">NEWSTAY</span><span class=\"f3 push-content\">: 無聊 有啥意義</span><span class=\"push-ipdatetime\"> 12/03 16:36\n",
       "</span></div><div class=\"push\"><span class=\"f1 hl push-tag\">噓 </span><span class=\"f3 hl push-userid\">linyi520</span><span class=\"f3 push-content\">: 我ok，你先打</span><span class=\"push-ipdatetime\"> 12/03 16:48\n",
       "</span></div><div class=\"push\"><span class=\"f1 hl push-tag\">→ </span><span class=\"f3 hl push-userid\">dean1990</span><span class=\"f3 push-content\">: 別擔心，到時候開放自願，一堆人搶著打</span><span class=\"push-ipdatetime\"> 12/03 16:52\n",
       "</span></div><div class=\"push\"><span class=\"f1 hl push-tag\">→ </span><span class=\"f3 hl push-userid\">dean1990</span><span class=\"f3 push-content\">: 讓衛生官員打，到時候出事，是台灣的損失</span><span class=\"push-ipdatetime\"> 12/03 16:52\n",
       "</span></div><div class=\"push\"><span class=\"f1 hl push-tag\">→ </span><span class=\"f3 hl push-userid\">dean1990</span><span class=\"f3 push-content\">: 政府真的別鬧了</span><span class=\"push-ipdatetime\"> 12/03 16:52\n",
       "</span></div><div class=\"push\"><span class=\"f1 hl push-tag\">→ </span><span class=\"f3 hl push-userid\">dean1990</span><span class=\"f3 push-content\">: 不是先打就是負責任</span><span class=\"push-ipdatetime\"> 12/03 16:53\n",
       "</span></div><div class=\"push\"><span class=\"f1 hl push-tag\">→ </span><span class=\"f3 hl push-userid\">kano4002</span><span class=\"f3 push-content\">: 屎先給窮人吃，疫苗當然是有錢人先打</span><span class=\"push-ipdatetime\"> 12/03 17:01\n",
       "</span></div><div class=\"push\"><span class=\"hl push-tag\">推 </span><span class=\"f3 hl push-userid\">bluemanhaha</span><span class=\"f3 push-content\">: 衛生官員當然沒問題，行政院長就滾去確診好了</span><span class=\"push-ipdatetime\"> 12/03 17:05\n",
       "</span></div></div>\n",
       "<div data-longpollurl=\"/v1/longpoll?id=e57cc3a1f53c0cb096e27aa814425cd359985f51\" data-offset=\"6973\" data-pollurl=\"/poll/Gossiping/M.1606981486.A.D44.html?cacheKey=2431-571745034&amp;offset=6973&amp;offset-sig=cae8aa01b10c32dcd1e5890edcd79ede5c826f07\" id=\"article-polling\"></div>\n",
       "<div class=\"bbs-screen bbs-footer-message\">本網站已依台灣網站內容分級規定處理。此區域為限制級，未滿十八歲者不得瀏覽。</div>\n",
       "</div>"
      ]
     },
     "execution_count": 51,
     "metadata": {},
     "output_type": "execute_result"
    }
   ],
   "source": [
    "main_content"
   ]
  },
  {
   "cell_type": "code",
   "execution_count": 56,
   "metadata": {},
   "outputs": [
    {
     "name": "stdout",
     "output_type": "stream",
     "text": [
      "樓下幫打\n",
      "我以為是醫護人員\n",
      "萊豬也可以官員先吃阿\n",
      "OKOK\n",
      "想多了 頂多拉公務員出來打\n",
      "美國三位前總統已經宣佈，只要通過FDA,願意公開施打做宣導\n",
      "建議提前預定小巨蛋場地，供萬人欣賞\n",
      "抓國親新和柯文哲去打先\n",
      "衛生官員學一下吧\n",
      "不需要思考了，直接承諾了，如何？\n",
      "萊豬不先吃 疫苗先去打\n",
      "什麼示範都不敢來，真他貓的可憐\n",
      "人類補完計劃\n",
      "還要思考喔\n",
      "萊豬也可以先吃一下\n",
      "其實也不用怕啦 等你拿到 國外早就一堆白老鼠\n",
      "我思考 你先打\n",
      "基層先犧牲吧\n",
      "耶 倒閣囉 開心\n",
      "萊豬為什麼不是官員先試吃\n",
      "歐美都先當白老鼠啦 擔心那麼多可以不用打\n",
      "為什麼搞得像哲學性的問題？\n",
      "這些醫事人員本來就是第一波了\n",
      "衛福部先帶頭示範吃萊豬內臟，才能消除民眾疑慮\n",
      "萊豬帶頭吃，光頭好棒棒\n",
      "官員先打啊。怕個屁啊\n",
      "什麼都不敢以身試法 zzzzz\n",
      "先在小巨蛋舉行行政院長生吃萊豬表演再說\n",
      "出國仔先打啊\n",
      "我OK你先打\n",
      "那萊豬要不要先吃？\n",
      "醫護（包括任何衛生單位公務人員）本來就會優先打\n",
      "疫苗啊，一直以來都是如此\n",
      "說不敢打的恐怕是對台灣衛生單位不熟吧？\n",
      "我ok你先打\n",
      "樓下能幫猛甲打手槍嗎\n",
      "沒有吧 第一線醫護才需要先 你官員多久接觸一次病人?\n",
      "我OK，你先打\n",
      "我OK你先當變種人\n",
      "先吃萊豬啊...\n",
      "為什麼都要官員帶頭做？人民是白癡，沒有判斷能力\n",
      "打針marine無敵\n",
      "只有政務官要吧 少拿事務官出來擋\n",
      "帶頭吃豬肉\n",
      "萊豬都不敢先吃了還期待先打\n",
      "無聊 有啥意義\n",
      "我ok，你先打\n",
      "別擔心，到時候開放自願，一堆人搶著打\n",
      "讓衛生官員打，到時候出事，是台灣的損失\n",
      "政府真的別鬧了\n",
      "不是先打就是負責任\n",
      "屎先給窮人吃，疫苗當然是有錢人先打\n",
      "衛生官員當然沒問題，行政院長就滾去確診好了\n"
     ]
    }
   ],
   "source": [
    "pushes = main_content.find_all('div', class_ = 'push')\n",
    "for push in pushes:\n",
    "    push_content = push.find('span', 'push-content').strings\n",
    "    push_content = ' '.join(push_content)[1:].strip(' \\t\\n\\r')\n",
    "    print(push_content)"
   ]
  },
  {
   "cell_type": "code",
   "execution_count": 60,
   "metadata": {},
   "outputs": [
    {
     "name": "stdout",
     "output_type": "stream",
     "text": [
      "推\n",
      "推\n",
      "推\n",
      "→\n",
      "推\n",
      "推\n",
      "推\n",
      "→\n",
      "→\n",
      "推\n",
      "推\n",
      "→\n",
      "→\n",
      "→\n",
      "→\n",
      "推\n",
      "推\n",
      "→\n",
      "→\n",
      "噓\n",
      "噓\n",
      "推\n",
      "推\n",
      "推\n",
      "推\n",
      "推\n",
      "噓\n",
      "→\n",
      "推\n",
      "推\n",
      "推\n",
      "推\n",
      "→\n",
      "推\n",
      "推\n",
      "推\n",
      "→\n",
      "→\n",
      "推\n",
      "→\n",
      "噓\n",
      "→\n",
      "→\n",
      "噓\n",
      "噓\n",
      "噓\n",
      "噓\n",
      "→\n",
      "→\n",
      "→\n",
      "→\n",
      "→\n",
      "推\n"
     ]
    }
   ],
   "source": [
    "for push in pushes:\n",
    "    push_tag = push.find('span', 'push-tag').string.strip(' \\t\\n\\r')\n",
    "    print(push_tag)"
   ]
  }
 ],
 "metadata": {
  "kernelspec": {
   "display_name": "Python 3",
   "language": "python",
   "name": "python3"
  },
  "language_info": {
   "codemirror_mode": {
    "name": "ipython",
    "version": 3
   },
   "file_extension": ".py",
   "mimetype": "text/x-python",
   "name": "python",
   "nbconvert_exporter": "python",
   "pygments_lexer": "ipython3",
   "version": "3.8.5"
  }
 },
 "nbformat": 4,
 "nbformat_minor": 4
}
