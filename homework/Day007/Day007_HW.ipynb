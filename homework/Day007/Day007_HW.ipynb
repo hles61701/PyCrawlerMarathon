{
 "cells": [
  {
   "cell_type": "markdown",
   "metadata": {},
   "source": [
    "# HTTP 靜態網頁架構說明\n",
    "\n",
    "* 認識靜態網頁的溝通架構與運作原理\n",
    "* HTML、CSS、JavaScript 在網頁中扮演的角色\n",
    "* 網頁中定位資料的方法"
   ]
  },
  {
   "cell_type": "markdown",
   "metadata": {},
   "source": [
    "## 作業目標\n",
    "\n",
    "1. （簡答題）請問目前提到的這種基於 HTTP 一來一回的網頁傳輸方式，有哪些缺點及問題？\n",
    "2. （簡答題）網頁中使用的 JavaScipt 程式語言，跟我們一般使用的 Python 在執行上有什麼不同。\n"
   ]
  },
  {
   "cell_type": "markdown",
   "metadata": {},
   "source": [
    "### 1.（簡答題）請問目前提到的這種基於 HTTP 一來一回的網頁傳輸方式，有哪些缺點及問題？"
   ]
  },
  {
   "cell_type": "code",
   "execution_count": 1,
   "metadata": {},
   "outputs": [
    {
     "data": {
      "text/plain": [
       "'\\n時間慢\\n需要有request才會有response\\nhttp沒有加密功能信息很容易被竊取\\n現在幾乎都是用https\\n'"
      ]
     },
     "execution_count": 1,
     "metadata": {},
     "output_type": "execute_result"
    }
   ],
   "source": [
    "'''\n",
    "時間慢\n",
    "需要有request才會有response\n",
    "http沒有加密功能信息很容易被竊取\n",
    "現在幾乎都是用https\n",
    "'''"
   ]
  },
  {
   "cell_type": "markdown",
   "metadata": {},
   "source": [
    "### 2. （簡答題）網頁中使用的 JavaScipt 程式語言，跟我們一般使用的 Python 在執行上有什麼不同。"
   ]
  },
  {
   "cell_type": "code",
   "execution_count": 2,
   "metadata": {},
   "outputs": [
    {
     "data": {
      "text/plain": [
       "'\\n語法的不同\\nJavaScript是一種腳本語言\\nPython是一種物件導向程式設計的編程語言\\n'"
      ]
     },
     "execution_count": 2,
     "metadata": {},
     "output_type": "execute_result"
    }
   ],
   "source": [
    "'''\n",
    "語法的不同\n",
    "JavaScript是一種腳本語言\n",
    "Python是一種物件導向程式設計的編程語言\n",
    "'''"
   ]
  },
  {
   "cell_type": "code",
   "execution_count": null,
   "metadata": {},
   "outputs": [],
   "source": []
  }
 ],
 "metadata": {
  "kernelspec": {
   "display_name": "Python 3",
   "language": "python",
   "name": "python3"
  },
  "language_info": {
   "codemirror_mode": {
    "name": "ipython",
    "version": 3
   },
   "file_extension": ".py",
   "mimetype": "text/x-python",
   "name": "python",
   "nbconvert_exporter": "python",
   "pygments_lexer": "ipython3",
   "version": "3.8.5"
  }
 },
 "nbformat": 4,
 "nbformat_minor": 2
}
