{
 "cells": [
  {
   "cell_type": "code",
   "execution_count": 1,
   "metadata": {},
   "outputs": [],
   "source": [
    "from selenium import webdriver\n",
    "from selenium.webdriver.support.ui import Select\n",
    "from bs4 import BeautifulSoup as bs"
   ]
  },
  {
   "cell_type": "code",
   "execution_count": null,
   "metadata": {},
   "outputs": [],
   "source": [
    "url = 'https://hahow.in/courses'\n",
    "browser = webdriver.Chrome(executable_path='chromedriver')\n",
    "browser.get(url)\n",
    "html_source = browser.page_source\n",
    "# print(html_source)\n",
    "browser.close()\n",
    "\n",
    "soup = bs(html_source, 'html.parser')\n",
    "for d in soup.find(class_ = 'list-container').find_all('h4'):\n",
    "    print(d.text)"
   ]
  },
  {
   "cell_type": "code",
   "execution_count": 4,
   "metadata": {
    "scrolled": true
   },
   "outputs": [
    {
     "name": "stdout",
     "output_type": "stream",
     "text": [
      "跟著阿麗學俄文 : 打造標準的俄語發音\n",
      "韓式擠花神手：韓國人金老師的擠花杯子蛋糕\n",
      "臺菜廚神阿發師的 12 堂課 - 辦桌菜輕鬆做\n",
      "跨國紙筆之旅：B6 速寫男帶你畫遍全世界\n",
      "說故事的 15 個秘密－基礎編劇實戰力\n",
      "侯吉諒書法講堂：從零開始，學寫一手好字\n",
      "Python 行銷資料科學 ：基礎語法入門最前線\n",
      "Unity 從零開始新手入門：2D 橫向捲軸遊戲\n",
      "品牌包裝設計學：從包裝建立最佳使用體驗\n",
      "Today at Apple:和攝影師 Paddy 用 iPhone 拍出商業空間形象照\n",
      "Today at Apple:和設計師馮宇拆解商業 LOGO 案例\n",
      "Today at Apple:和攝影師 Ada Lin 用 iPhone 學習專業商品攝影\n",
      "Python 資料分析：AI 機器學習入門到應用\n",
      "余惟的生活時尚攝影：拍出日常裡的封面人物\n",
      "雷浩斯價值投資：用質化分析找出價值成長股\n",
      "火頭工做麵包：與酵母共舞，設計專屬配方\n",
      "職場英文大補帖｜上班族的跨國會議必修課\n",
      "【生活裡的花與器】風格美感花藝選搭課\n",
      "數位轉型敲門磚，產業必學 AI 思維通識課\n",
      "揮別五音不全：威宇老師的音準訓練課\n",
      "一課思考學：你需要知道的一切，都在這一課\n",
      "這樣做設計思考更有用！UX 有感提案術\n",
      "創新先生瘋狂創造力：創造力思維與發想流程\n",
      "基礎情境練習課：建立你的英文文法邏輯腦\n",
      "------------------------------------------------\n",
      "藝用解剖學 2 - 凝望透視之眼 360 度全視野攻略\n",
      "新手能上手！居家健身，肌群練習一次到位\n",
      "婚禮企劃與主持入門課\n",
      "黃瑽寧的 10 堂育兒必修課全系列\n",
      "毛心潔的哺乳全攻略：觀念篇＋實作篇\n",
      "鄧惠文的關係心理學：親子篇\n",
      "10 堂課教出孩子的好情緒\n",
      "聽海苔熊「談」戀愛：剖析童話，療癒愛情\n",
      "Python 進階課程：觀念、語法、專案、爬蟲\n",
      "龍師傅的台菜世界廚房\n",
      "萬用馭髮術全攻略 - 女神髮型養成班\n",
      "實境遊戲設計：打造好玩又有意義的情境體驗\n",
      "產品設計實戰：用Figma打造絕佳UI/UX\n",
      "許榮哲的故事課 - 三分鐘說 18 萬個故事\n",
      "Rose 的色鉛筆插畫課 - 粉彩系午茶派對\n",
      "旅行攝影：按下快門，用攝影書寫故事\n",
      "占星之門安格斯｜十二宮位找出人生攻略\n",
      "一生必學的圍棋課—入門變達人\n",
      "台式冷便當｜不用蒸也能輕鬆帶的便當\n",
      "跟 YouTuber 莫彩曦學美國道地的說話習慣\n",
      "用 Python 理財：打造加密貨幣實戰策略\n",
      "總經投資必學，看懂美中歐三大央行政策！\n",
      "第一堂德語課：開啟德國留學之路\n",
      "行銷提案實戰：讓你的想法被一次買單\n",
      "------------------------------------------------\n"
     ]
    }
   ],
   "source": [
    "# https://hahow.in/courses?page=1\n",
    "\n",
    "\n",
    "for pages in range(1,3):\n",
    "#     print('第 %s 頁課程:' % pages)\n",
    "    browser = webdriver.Chrome(executable_path='chromedriver')\n",
    "    url = 'https://hahow.in/courses?page=' + str(pages)\n",
    "    browser.get(url)\n",
    "    html_source = browser.page_source\n",
    "#     print(html_source)\n",
    "    \n",
    "    soup = bs(html_source, 'html.parser')\n",
    "    for d in soup.find(class_ = 'list-container').find_all('h4'):\n",
    "        print(d.text)\n",
    "    \n",
    "    print('------------------------------------------------')\n",
    "\n",
    "    browser.close()\n"
   ]
  },
  {
   "cell_type": "code",
   "execution_count": null,
   "metadata": {},
   "outputs": [],
   "source": []
  }
 ],
 "metadata": {
  "kernelspec": {
   "display_name": "Python 3",
   "language": "python",
   "name": "python3"
  },
  "language_info": {
   "codemirror_mode": {
    "name": "ipython",
    "version": 3
   },
   "file_extension": ".py",
   "mimetype": "text/x-python",
   "name": "python",
   "nbconvert_exporter": "python",
   "pygments_lexer": "ipython3",
   "version": "3.8.5"
  }
 },
 "nbformat": 4,
 "nbformat_minor": 4
}
